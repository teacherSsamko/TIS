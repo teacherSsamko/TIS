{
 "metadata": {
  "language_info": {
   "codemirror_mode": {
    "name": "ipython",
    "version": 3
   },
   "file_extension": ".py",
   "mimetype": "text/x-python",
   "name": "python",
   "nbconvert_exporter": "python",
   "pygments_lexer": "ipython3",
   "version": "3.8.2-final"
  },
  "orig_nbformat": 2,
  "kernelspec": {
   "name": "python3",
   "display_name": "Python 3",
   "language": "python"
  }
 },
 "nbformat": 4,
 "nbformat_minor": 2,
 "cells": [
  {
   "source": [
    "# Combine two columns into one column"
   ],
   "cell_type": "markdown",
   "metadata": {}
  },
  {
   "source": [
    "## 1. Using forloop"
   ],
   "cell_type": "markdown",
   "metadata": {}
  },
  {
   "cell_type": "code",
   "execution_count": 1,
   "metadata": {},
   "outputs": [],
   "source": [
    "import pandas as pd\n",
    "import numpy as np\n"
   ]
  },
  {
   "cell_type": "code",
   "execution_count": 4,
   "metadata": {},
   "outputs": [],
   "source": [
    "df = pd.read_csv('trx.csv')"
   ]
  },
  {
   "cell_type": "code",
   "execution_count": 5,
   "metadata": {},
   "outputs": [
    {
     "output_type": "execute_result",
     "data": {
      "text/plain": [
       "            uid   prod_id  order_count  cancel_count             purchase_dt\n",
       "0    0010427579  10175535            1             0   2020-10-09 오후 6:59:14\n",
       "1    0010427579  10225923            1             0   2020-10-13 오후 1:30:46\n",
       "2  001632d78daa  10229168            1             0  2020-10-28 오후 12:46:03\n",
       "3  001632fb6360  10160229            1             0   2020-10-04 오후 4:52:18\n",
       "4  001632fddf03  10208586            1             0  2020-10-24 오후 12:16:10"
      ],
      "text/html": "<div>\n<style scoped>\n    .dataframe tbody tr th:only-of-type {\n        vertical-align: middle;\n    }\n\n    .dataframe tbody tr th {\n        vertical-align: top;\n    }\n\n    .dataframe thead th {\n        text-align: right;\n    }\n</style>\n<table border=\"1\" class=\"dataframe\">\n  <thead>\n    <tr style=\"text-align: right;\">\n      <th></th>\n      <th>uid</th>\n      <th>prod_id</th>\n      <th>order_count</th>\n      <th>cancel_count</th>\n      <th>purchase_dt</th>\n    </tr>\n  </thead>\n  <tbody>\n    <tr>\n      <th>0</th>\n      <td>0010427579</td>\n      <td>10175535</td>\n      <td>1</td>\n      <td>0</td>\n      <td>2020-10-09 오후 6:59:14</td>\n    </tr>\n    <tr>\n      <th>1</th>\n      <td>0010427579</td>\n      <td>10225923</td>\n      <td>1</td>\n      <td>0</td>\n      <td>2020-10-13 오후 1:30:46</td>\n    </tr>\n    <tr>\n      <th>2</th>\n      <td>001632d78daa</td>\n      <td>10229168</td>\n      <td>1</td>\n      <td>0</td>\n      <td>2020-10-28 오후 12:46:03</td>\n    </tr>\n    <tr>\n      <th>3</th>\n      <td>001632fb6360</td>\n      <td>10160229</td>\n      <td>1</td>\n      <td>0</td>\n      <td>2020-10-04 오후 4:52:18</td>\n    </tr>\n    <tr>\n      <th>4</th>\n      <td>001632fddf03</td>\n      <td>10208586</td>\n      <td>1</td>\n      <td>0</td>\n      <td>2020-10-24 오후 12:16:10</td>\n    </tr>\n  </tbody>\n</table>\n</div>"
     },
     "metadata": {},
     "execution_count": 5
    }
   ],
   "source": [
    "df.head()\n"
   ]
  },
  {
   "cell_type": "code",
   "execution_count": 6,
   "metadata": {},
   "outputs": [
    {
     "output_type": "execute_result",
     "data": {
      "text/plain": [
       "[1, 1, 1, 1, 1, 1, 2, 1, 1, 1]"
      ]
     },
     "metadata": {},
     "execution_count": 6
    }
   ],
   "source": [
    "purchase_list = []\n",
    "for i in range(len(df)):\n",
    "    tmp = df['order_count'][i] - df['cancel_count'][i]\n",
    "    purchase_list.append(tmp)\n",
    "purchase_list[:10]"
   ]
  },
  {
   "cell_type": "code",
   "execution_count": 8,
   "metadata": {},
   "outputs": [],
   "source": [
    "df = df[['uid','prod_id','purchase_dt']]\n",
    "df['purchase_count'] = purchase_list"
   ]
  },
  {
   "cell_type": "code",
   "execution_count": 9,
   "metadata": {},
   "outputs": [
    {
     "output_type": "execute_result",
     "data": {
      "text/plain": [
       "               uid   prod_id             purchase_dt  purchase_count\n",
       "59  001c.627c.161d  10212771   2020-10-19 오전 8:20:34               1\n",
       "60  001c.627c.5bbf  10221021  2020-10-27 오전 12:36:13               2\n",
       "61  001c.627c.64db  10210598   2020-10-17 오전 8:20:47               1\n",
       "62  001c.627c.64db  10245186  2020-10-26 오전 12:19:14               1\n",
       "63  001c.627c.a511  10237885   2020-10-12 오전 5:09:51               2"
      ],
      "text/html": "<div>\n<style scoped>\n    .dataframe tbody tr th:only-of-type {\n        vertical-align: middle;\n    }\n\n    .dataframe tbody tr th {\n        vertical-align: top;\n    }\n\n    .dataframe thead th {\n        text-align: right;\n    }\n</style>\n<table border=\"1\" class=\"dataframe\">\n  <thead>\n    <tr style=\"text-align: right;\">\n      <th></th>\n      <th>uid</th>\n      <th>prod_id</th>\n      <th>purchase_dt</th>\n      <th>purchase_count</th>\n    </tr>\n  </thead>\n  <tbody>\n    <tr>\n      <th>59</th>\n      <td>001c.627c.161d</td>\n      <td>10212771</td>\n      <td>2020-10-19 오전 8:20:34</td>\n      <td>1</td>\n    </tr>\n    <tr>\n      <th>60</th>\n      <td>001c.627c.5bbf</td>\n      <td>10221021</td>\n      <td>2020-10-27 오전 12:36:13</td>\n      <td>2</td>\n    </tr>\n    <tr>\n      <th>61</th>\n      <td>001c.627c.64db</td>\n      <td>10210598</td>\n      <td>2020-10-17 오전 8:20:47</td>\n      <td>1</td>\n    </tr>\n    <tr>\n      <th>62</th>\n      <td>001c.627c.64db</td>\n      <td>10245186</td>\n      <td>2020-10-26 오전 12:19:14</td>\n      <td>1</td>\n    </tr>\n    <tr>\n      <th>63</th>\n      <td>001c.627c.a511</td>\n      <td>10237885</td>\n      <td>2020-10-12 오전 5:09:51</td>\n      <td>2</td>\n    </tr>\n  </tbody>\n</table>\n</div>"
     },
     "metadata": {},
     "execution_count": 9
    }
   ],
   "source": [
    "df.tail()"
   ]
  },
  {
   "source": [
    "## 2. Using apply"
   ],
   "cell_type": "markdown",
   "metadata": {}
  },
  {
   "cell_type": "code",
   "execution_count": 11,
   "metadata": {},
   "outputs": [
    {
     "output_type": "execute_result",
     "data": {
      "text/plain": [
       "            uid   prod_id  order_count  cancel_count             purchase_dt\n",
       "0    0010427579  10175535            1             0   2020-10-09 오후 6:59:14\n",
       "1    0010427579  10225923            1             0   2020-10-13 오후 1:30:46\n",
       "2  001632d78daa  10229168            1             0  2020-10-28 오후 12:46:03\n",
       "3  001632fb6360  10160229            1             0   2020-10-04 오후 4:52:18\n",
       "4  001632fddf03  10208586            1             0  2020-10-24 오후 12:16:10"
      ],
      "text/html": "<div>\n<style scoped>\n    .dataframe tbody tr th:only-of-type {\n        vertical-align: middle;\n    }\n\n    .dataframe tbody tr th {\n        vertical-align: top;\n    }\n\n    .dataframe thead th {\n        text-align: right;\n    }\n</style>\n<table border=\"1\" class=\"dataframe\">\n  <thead>\n    <tr style=\"text-align: right;\">\n      <th></th>\n      <th>uid</th>\n      <th>prod_id</th>\n      <th>order_count</th>\n      <th>cancel_count</th>\n      <th>purchase_dt</th>\n    </tr>\n  </thead>\n  <tbody>\n    <tr>\n      <th>0</th>\n      <td>0010427579</td>\n      <td>10175535</td>\n      <td>1</td>\n      <td>0</td>\n      <td>2020-10-09 오후 6:59:14</td>\n    </tr>\n    <tr>\n      <th>1</th>\n      <td>0010427579</td>\n      <td>10225923</td>\n      <td>1</td>\n      <td>0</td>\n      <td>2020-10-13 오후 1:30:46</td>\n    </tr>\n    <tr>\n      <th>2</th>\n      <td>001632d78daa</td>\n      <td>10229168</td>\n      <td>1</td>\n      <td>0</td>\n      <td>2020-10-28 오후 12:46:03</td>\n    </tr>\n    <tr>\n      <th>3</th>\n      <td>001632fb6360</td>\n      <td>10160229</td>\n      <td>1</td>\n      <td>0</td>\n      <td>2020-10-04 오후 4:52:18</td>\n    </tr>\n    <tr>\n      <th>4</th>\n      <td>001632fddf03</td>\n      <td>10208586</td>\n      <td>1</td>\n      <td>0</td>\n      <td>2020-10-24 오후 12:16:10</td>\n    </tr>\n  </tbody>\n</table>\n</div>"
     },
     "metadata": {},
     "execution_count": 11
    }
   ],
   "source": [
    "df = pd.read_csv('trx.csv')\n",
    "df.head()"
   ]
  },
  {
   "cell_type": "code",
   "execution_count": 12,
   "metadata": {},
   "outputs": [
    {
     "output_type": "execute_result",
     "data": {
      "text/plain": [
       "               uid   prod_id  order_count  cancel_count  \\\n",
       "59  001c.627c.161d  10212771            1             0   \n",
       "60  001c.627c.5bbf  10221021            1             1   \n",
       "61  001c.627c.64db  10210598            1             0   \n",
       "62  001c.627c.64db  10245186            1             0   \n",
       "63  001c.627c.a511  10237885            1             1   \n",
       "\n",
       "               purchase_dt  purchase_count  \n",
       "59   2020-10-19 오전 8:20:34               1  \n",
       "60  2020-10-27 오전 12:36:13               0  \n",
       "61   2020-10-17 오전 8:20:47               1  \n",
       "62  2020-10-26 오전 12:19:14               1  \n",
       "63   2020-10-12 오전 5:09:51               0  "
      ],
      "text/html": "<div>\n<style scoped>\n    .dataframe tbody tr th:only-of-type {\n        vertical-align: middle;\n    }\n\n    .dataframe tbody tr th {\n        vertical-align: top;\n    }\n\n    .dataframe thead th {\n        text-align: right;\n    }\n</style>\n<table border=\"1\" class=\"dataframe\">\n  <thead>\n    <tr style=\"text-align: right;\">\n      <th></th>\n      <th>uid</th>\n      <th>prod_id</th>\n      <th>order_count</th>\n      <th>cancel_count</th>\n      <th>purchase_dt</th>\n      <th>purchase_count</th>\n    </tr>\n  </thead>\n  <tbody>\n    <tr>\n      <th>59</th>\n      <td>001c.627c.161d</td>\n      <td>10212771</td>\n      <td>1</td>\n      <td>0</td>\n      <td>2020-10-19 오전 8:20:34</td>\n      <td>1</td>\n    </tr>\n    <tr>\n      <th>60</th>\n      <td>001c.627c.5bbf</td>\n      <td>10221021</td>\n      <td>1</td>\n      <td>1</td>\n      <td>2020-10-27 오전 12:36:13</td>\n      <td>0</td>\n    </tr>\n    <tr>\n      <th>61</th>\n      <td>001c.627c.64db</td>\n      <td>10210598</td>\n      <td>1</td>\n      <td>0</td>\n      <td>2020-10-17 오전 8:20:47</td>\n      <td>1</td>\n    </tr>\n    <tr>\n      <th>62</th>\n      <td>001c.627c.64db</td>\n      <td>10245186</td>\n      <td>1</td>\n      <td>0</td>\n      <td>2020-10-26 오전 12:19:14</td>\n      <td>1</td>\n    </tr>\n    <tr>\n      <th>63</th>\n      <td>001c.627c.a511</td>\n      <td>10237885</td>\n      <td>1</td>\n      <td>1</td>\n      <td>2020-10-12 오전 5:09:51</td>\n      <td>0</td>\n    </tr>\n  </tbody>\n</table>\n</div>"
     },
     "metadata": {},
     "execution_count": 12
    }
   ],
   "source": [
    "df['purchase_count'] = df.apply(lambda row: row.order_count - row.cancel_count, axis= 1)\n",
    "df.tail()"
   ]
  },
  {
   "source": [
    "## 3. Column operation"
   ],
   "cell_type": "markdown",
   "metadata": {}
  },
  {
   "cell_type": "code",
   "execution_count": 21,
   "metadata": {},
   "outputs": [
    {
     "output_type": "execute_result",
     "data": {
      "text/plain": [
       "               uid   prod_id  order_count  cancel_count  \\\n",
       "59  001c.627c.161d  10212771            1             0   \n",
       "60  001c.627c.5bbf  10221021            1             1   \n",
       "61  001c.627c.64db  10210598            1             0   \n",
       "62  001c.627c.64db  10245186            1             0   \n",
       "63  001c.627c.a511  10237885            1             1   \n",
       "\n",
       "               purchase_dt  \n",
       "59   2020-10-19 오전 8:20:34  \n",
       "60  2020-10-27 오전 12:36:13  \n",
       "61   2020-10-17 오전 8:20:47  \n",
       "62  2020-10-26 오전 12:19:14  \n",
       "63   2020-10-12 오전 5:09:51  "
      ],
      "text/html": "<div>\n<style scoped>\n    .dataframe tbody tr th:only-of-type {\n        vertical-align: middle;\n    }\n\n    .dataframe tbody tr th {\n        vertical-align: top;\n    }\n\n    .dataframe thead th {\n        text-align: right;\n    }\n</style>\n<table border=\"1\" class=\"dataframe\">\n  <thead>\n    <tr style=\"text-align: right;\">\n      <th></th>\n      <th>uid</th>\n      <th>prod_id</th>\n      <th>order_count</th>\n      <th>cancel_count</th>\n      <th>purchase_dt</th>\n    </tr>\n  </thead>\n  <tbody>\n    <tr>\n      <th>59</th>\n      <td>001c.627c.161d</td>\n      <td>10212771</td>\n      <td>1</td>\n      <td>0</td>\n      <td>2020-10-19 오전 8:20:34</td>\n    </tr>\n    <tr>\n      <th>60</th>\n      <td>001c.627c.5bbf</td>\n      <td>10221021</td>\n      <td>1</td>\n      <td>1</td>\n      <td>2020-10-27 오전 12:36:13</td>\n    </tr>\n    <tr>\n      <th>61</th>\n      <td>001c.627c.64db</td>\n      <td>10210598</td>\n      <td>1</td>\n      <td>0</td>\n      <td>2020-10-17 오전 8:20:47</td>\n    </tr>\n    <tr>\n      <th>62</th>\n      <td>001c.627c.64db</td>\n      <td>10245186</td>\n      <td>1</td>\n      <td>0</td>\n      <td>2020-10-26 오전 12:19:14</td>\n    </tr>\n    <tr>\n      <th>63</th>\n      <td>001c.627c.a511</td>\n      <td>10237885</td>\n      <td>1</td>\n      <td>1</td>\n      <td>2020-10-12 오전 5:09:51</td>\n    </tr>\n  </tbody>\n</table>\n</div>"
     },
     "metadata": {},
     "execution_count": 21
    }
   ],
   "source": [
    "df = pd.read_csv('trx.csv')\n",
    "df.tail()"
   ]
  },
  {
   "cell_type": "code",
   "execution_count": 14,
   "metadata": {},
   "outputs": [
    {
     "output_type": "execute_result",
     "data": {
      "text/plain": [
       "               uid   prod_id  order_count  cancel_count  \\\n",
       "59  001c.627c.161d  10212771            1             0   \n",
       "60  001c.627c.5bbf  10221021            1             1   \n",
       "61  001c.627c.64db  10210598            1             0   \n",
       "62  001c.627c.64db  10245186            1             0   \n",
       "63  001c.627c.a511  10237885            1             1   \n",
       "\n",
       "               purchase_dt  purchase_count  \n",
       "59   2020-10-19 오전 8:20:34               1  \n",
       "60  2020-10-27 오전 12:36:13               0  \n",
       "61   2020-10-17 오전 8:20:47               1  \n",
       "62  2020-10-26 오전 12:19:14               1  \n",
       "63   2020-10-12 오전 5:09:51               0  "
      ],
      "text/html": "<div>\n<style scoped>\n    .dataframe tbody tr th:only-of-type {\n        vertical-align: middle;\n    }\n\n    .dataframe tbody tr th {\n        vertical-align: top;\n    }\n\n    .dataframe thead th {\n        text-align: right;\n    }\n</style>\n<table border=\"1\" class=\"dataframe\">\n  <thead>\n    <tr style=\"text-align: right;\">\n      <th></th>\n      <th>uid</th>\n      <th>prod_id</th>\n      <th>order_count</th>\n      <th>cancel_count</th>\n      <th>purchase_dt</th>\n      <th>purchase_count</th>\n    </tr>\n  </thead>\n  <tbody>\n    <tr>\n      <th>59</th>\n      <td>001c.627c.161d</td>\n      <td>10212771</td>\n      <td>1</td>\n      <td>0</td>\n      <td>2020-10-19 오전 8:20:34</td>\n      <td>1</td>\n    </tr>\n    <tr>\n      <th>60</th>\n      <td>001c.627c.5bbf</td>\n      <td>10221021</td>\n      <td>1</td>\n      <td>1</td>\n      <td>2020-10-27 오전 12:36:13</td>\n      <td>0</td>\n    </tr>\n    <tr>\n      <th>61</th>\n      <td>001c.627c.64db</td>\n      <td>10210598</td>\n      <td>1</td>\n      <td>0</td>\n      <td>2020-10-17 오전 8:20:47</td>\n      <td>1</td>\n    </tr>\n    <tr>\n      <th>62</th>\n      <td>001c.627c.64db</td>\n      <td>10245186</td>\n      <td>1</td>\n      <td>0</td>\n      <td>2020-10-26 오전 12:19:14</td>\n      <td>1</td>\n    </tr>\n    <tr>\n      <th>63</th>\n      <td>001c.627c.a511</td>\n      <td>10237885</td>\n      <td>1</td>\n      <td>1</td>\n      <td>2020-10-12 오전 5:09:51</td>\n      <td>0</td>\n    </tr>\n  </tbody>\n</table>\n</div>"
     },
     "metadata": {},
     "execution_count": 14
    }
   ],
   "source": [
    "df['purchase_count'] = df['order_count'] - df['cancel_count']\n",
    "df.tail()"
   ]
  },
  {
   "source": [
    "## 4. Using insert"
   ],
   "cell_type": "markdown",
   "metadata": {}
  },
  {
   "cell_type": "code",
   "execution_count": 26,
   "metadata": {},
   "outputs": [
    {
     "output_type": "stream",
     "name": "stdout",
     "text": [
      "<class 'pandas.core.series.Series'>\n<class 'pandas.core.series.Series'>\n"
     ]
    },
    {
     "output_type": "error",
     "ename": "ValueError",
     "evalue": "cannot insert purchase_count, already exists",
     "traceback": [
      "\u001b[0;31m---------------------------------------------------------------------------\u001b[0m",
      "\u001b[0;31mValueError\u001b[0m                                Traceback (most recent call last)",
      "\u001b[0;32m<ipython-input-26-c13b6901c0d1>\u001b[0m in \u001b[0;36m<module>\u001b[0;34m\u001b[0m\n\u001b[1;32m      2\u001b[0m \u001b[0mprint\u001b[0m\u001b[0;34m(\u001b[0m\u001b[0mtype\u001b[0m\u001b[0;34m(\u001b[0m\u001b[0mdf\u001b[0m\u001b[0;34m[\u001b[0m\u001b[0;34m'uid'\u001b[0m\u001b[0;34m]\u001b[0m\u001b[0;34m)\u001b[0m\u001b[0;34m)\u001b[0m\u001b[0;34m\u001b[0m\u001b[0;34m\u001b[0m\u001b[0m\n\u001b[1;32m      3\u001b[0m \u001b[0mprint\u001b[0m\u001b[0;34m(\u001b[0m\u001b[0mtype\u001b[0m\u001b[0;34m(\u001b[0m\u001b[0mtmp\u001b[0m\u001b[0;34m)\u001b[0m\u001b[0;34m)\u001b[0m\u001b[0;34m\u001b[0m\u001b[0;34m\u001b[0m\u001b[0m\n\u001b[0;32m----> 4\u001b[0;31m \u001b[0mdf\u001b[0m\u001b[0;34m.\u001b[0m\u001b[0minsert\u001b[0m\u001b[0;34m(\u001b[0m\u001b[0;36m2\u001b[0m\u001b[0;34m,\u001b[0m \u001b[0;34m'purchase_count'\u001b[0m\u001b[0;34m,\u001b[0m \u001b[0mtmp\u001b[0m\u001b[0;34m)\u001b[0m\u001b[0;34m\u001b[0m\u001b[0;34m\u001b[0m\u001b[0m\n\u001b[0m\u001b[1;32m      5\u001b[0m \u001b[0mdf\u001b[0m\u001b[0;34m.\u001b[0m\u001b[0mtail\u001b[0m\u001b[0;34m(\u001b[0m\u001b[0;34m)\u001b[0m\u001b[0;34m\u001b[0m\u001b[0;34m\u001b[0m\u001b[0m\n",
      "\u001b[0;32m~/Documents/ssamko/TIS/venv/lib/python3.8/site-packages/pandas/core/frame.py\u001b[0m in \u001b[0;36minsert\u001b[0;34m(self, loc, column, value, allow_duplicates)\u001b[0m\n\u001b[1;32m   3626\u001b[0m         \u001b[0mself\u001b[0m\u001b[0;34m.\u001b[0m\u001b[0m_ensure_valid_index\u001b[0m\u001b[0;34m(\u001b[0m\u001b[0mvalue\u001b[0m\u001b[0;34m)\u001b[0m\u001b[0;34m\u001b[0m\u001b[0;34m\u001b[0m\u001b[0m\n\u001b[1;32m   3627\u001b[0m         \u001b[0mvalue\u001b[0m \u001b[0;34m=\u001b[0m \u001b[0mself\u001b[0m\u001b[0;34m.\u001b[0m\u001b[0m_sanitize_column\u001b[0m\u001b[0;34m(\u001b[0m\u001b[0mcolumn\u001b[0m\u001b[0;34m,\u001b[0m \u001b[0mvalue\u001b[0m\u001b[0;34m,\u001b[0m \u001b[0mbroadcast\u001b[0m\u001b[0;34m=\u001b[0m\u001b[0;32mFalse\u001b[0m\u001b[0;34m)\u001b[0m\u001b[0;34m\u001b[0m\u001b[0;34m\u001b[0m\u001b[0m\n\u001b[0;32m-> 3628\u001b[0;31m         \u001b[0mself\u001b[0m\u001b[0;34m.\u001b[0m\u001b[0m_mgr\u001b[0m\u001b[0;34m.\u001b[0m\u001b[0minsert\u001b[0m\u001b[0;34m(\u001b[0m\u001b[0mloc\u001b[0m\u001b[0;34m,\u001b[0m \u001b[0mcolumn\u001b[0m\u001b[0;34m,\u001b[0m \u001b[0mvalue\u001b[0m\u001b[0;34m,\u001b[0m \u001b[0mallow_duplicates\u001b[0m\u001b[0;34m=\u001b[0m\u001b[0mallow_duplicates\u001b[0m\u001b[0;34m)\u001b[0m\u001b[0;34m\u001b[0m\u001b[0;34m\u001b[0m\u001b[0m\n\u001b[0m\u001b[1;32m   3629\u001b[0m \u001b[0;34m\u001b[0m\u001b[0m\n\u001b[1;32m   3630\u001b[0m     \u001b[0;32mdef\u001b[0m \u001b[0massign\u001b[0m\u001b[0;34m(\u001b[0m\u001b[0mself\u001b[0m\u001b[0;34m,\u001b[0m \u001b[0;34m**\u001b[0m\u001b[0mkwargs\u001b[0m\u001b[0;34m)\u001b[0m \u001b[0;34m->\u001b[0m \u001b[0;34m\"DataFrame\"\u001b[0m\u001b[0;34m:\u001b[0m\u001b[0;34m\u001b[0m\u001b[0;34m\u001b[0m\u001b[0m\n",
      "\u001b[0;32m~/Documents/ssamko/TIS/venv/lib/python3.8/site-packages/pandas/core/internals/managers.py\u001b[0m in \u001b[0;36minsert\u001b[0;34m(self, loc, item, value, allow_duplicates)\u001b[0m\n\u001b[1;32m   1184\u001b[0m         \u001b[0;32mif\u001b[0m \u001b[0;32mnot\u001b[0m \u001b[0mallow_duplicates\u001b[0m \u001b[0;32mand\u001b[0m \u001b[0mitem\u001b[0m \u001b[0;32min\u001b[0m \u001b[0mself\u001b[0m\u001b[0;34m.\u001b[0m\u001b[0mitems\u001b[0m\u001b[0;34m:\u001b[0m\u001b[0;34m\u001b[0m\u001b[0;34m\u001b[0m\u001b[0m\n\u001b[1;32m   1185\u001b[0m             \u001b[0;31m# Should this be a different kind of error??\u001b[0m\u001b[0;34m\u001b[0m\u001b[0;34m\u001b[0m\u001b[0;34m\u001b[0m\u001b[0m\n\u001b[0;32m-> 1186\u001b[0;31m             \u001b[0;32mraise\u001b[0m \u001b[0mValueError\u001b[0m\u001b[0;34m(\u001b[0m\u001b[0;34mf\"cannot insert {item}, already exists\"\u001b[0m\u001b[0;34m)\u001b[0m\u001b[0;34m\u001b[0m\u001b[0;34m\u001b[0m\u001b[0m\n\u001b[0m\u001b[1;32m   1187\u001b[0m \u001b[0;34m\u001b[0m\u001b[0m\n\u001b[1;32m   1188\u001b[0m         \u001b[0;32mif\u001b[0m \u001b[0;32mnot\u001b[0m \u001b[0misinstance\u001b[0m\u001b[0;34m(\u001b[0m\u001b[0mloc\u001b[0m\u001b[0;34m,\u001b[0m \u001b[0mint\u001b[0m\u001b[0;34m)\u001b[0m\u001b[0;34m:\u001b[0m\u001b[0;34m\u001b[0m\u001b[0;34m\u001b[0m\u001b[0m\n",
      "\u001b[0;31mValueError\u001b[0m: cannot insert purchase_count, already exists"
     ]
    }
   ],
   "source": [
    "tmp = df['order_count'] - df['cancel_count']\n",
    "df.insert(2, 'purchase_count', tmp)\n",
    "df.tail()"
   ]
  },
  {
   "source": [
    "## Finally\n",
    "drop useless columns\n"
   ],
   "cell_type": "markdown",
   "metadata": {}
  },
  {
   "cell_type": "code",
   "execution_count": 19,
   "metadata": {},
   "outputs": [
    {
     "output_type": "execute_result",
     "data": {
      "text/plain": [
       "               uid   prod_id             purchase_dt  purchase_count\n",
       "59  001c.627c.161d  10212771   2020-10-19 오전 8:20:34               1\n",
       "60  001c.627c.5bbf  10221021  2020-10-27 오전 12:36:13               0\n",
       "61  001c.627c.64db  10210598   2020-10-17 오전 8:20:47               1\n",
       "62  001c.627c.64db  10245186  2020-10-26 오전 12:19:14               1\n",
       "63  001c.627c.a511  10237885   2020-10-12 오전 5:09:51               0"
      ],
      "text/html": "<div>\n<style scoped>\n    .dataframe tbody tr th:only-of-type {\n        vertical-align: middle;\n    }\n\n    .dataframe tbody tr th {\n        vertical-align: top;\n    }\n\n    .dataframe thead th {\n        text-align: right;\n    }\n</style>\n<table border=\"1\" class=\"dataframe\">\n  <thead>\n    <tr style=\"text-align: right;\">\n      <th></th>\n      <th>uid</th>\n      <th>prod_id</th>\n      <th>purchase_dt</th>\n      <th>purchase_count</th>\n    </tr>\n  </thead>\n  <tbody>\n    <tr>\n      <th>59</th>\n      <td>001c.627c.161d</td>\n      <td>10212771</td>\n      <td>2020-10-19 오전 8:20:34</td>\n      <td>1</td>\n    </tr>\n    <tr>\n      <th>60</th>\n      <td>001c.627c.5bbf</td>\n      <td>10221021</td>\n      <td>2020-10-27 오전 12:36:13</td>\n      <td>0</td>\n    </tr>\n    <tr>\n      <th>61</th>\n      <td>001c.627c.64db</td>\n      <td>10210598</td>\n      <td>2020-10-17 오전 8:20:47</td>\n      <td>1</td>\n    </tr>\n    <tr>\n      <th>62</th>\n      <td>001c.627c.64db</td>\n      <td>10245186</td>\n      <td>2020-10-26 오전 12:19:14</td>\n      <td>1</td>\n    </tr>\n    <tr>\n      <th>63</th>\n      <td>001c.627c.a511</td>\n      <td>10237885</td>\n      <td>2020-10-12 오전 5:09:51</td>\n      <td>0</td>\n    </tr>\n  </tbody>\n</table>\n</div>"
     },
     "metadata": {},
     "execution_count": 19
    }
   ],
   "source": [
    "df = df.drop(columns=['order_count', 'cancel_count'])\n",
    "df.tail()"
   ]
  }
 ]
}