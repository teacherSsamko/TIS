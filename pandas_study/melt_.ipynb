{
 "metadata": {
  "language_info": {
   "codemirror_mode": {
    "name": "ipython",
    "version": 3
   },
   "file_extension": ".py",
   "mimetype": "text/x-python",
   "name": "python",
   "nbconvert_exporter": "python",
   "pygments_lexer": "ipython3",
   "version": "3.8.2-final"
  },
  "orig_nbformat": 2,
  "kernelspec": {
   "name": "python3",
   "display_name": "Python 3.8.2 64-bit ('venv': venv)",
   "metadata": {
    "interpreter": {
     "hash": "5c102321e0fd53640384d82941ef7c13efe9039a0ca8d049f1f2a44d0cc617a3"
    }
   }
  }
 },
 "nbformat": 4,
 "nbformat_minor": 2,
 "cells": [
  {
   "cell_type": "code",
   "execution_count": 1,
   "metadata": {},
   "outputs": [],
   "source": [
    "import pandas as pd\n",
    "\n",
    "df = pd.DataFrame({\n",
    "    'A':['a1','a2','a3','a4'],\n",
    "    'B':['b1','b2','b3','b4'],\n",
    "    'C':['1','2','3','4'],\n",
    "    'D':['100','200','300','400']\n",
    "})\n",
    "\n",
    "\n"
   ]
  },
  {
   "cell_type": "code",
   "execution_count": 2,
   "metadata": {},
   "outputs": [
    {
     "output_type": "execute_result",
     "data": {
      "text/plain": [
       "    A   B  C    D\n",
       "0  a1  b1  1  100\n",
       "1  a2  b2  2  200\n",
       "2  a3  b3  3  300\n",
       "3  a4  b4  4  400"
      ],
      "text/html": "<div>\n<style scoped>\n    .dataframe tbody tr th:only-of-type {\n        vertical-align: middle;\n    }\n\n    .dataframe tbody tr th {\n        vertical-align: top;\n    }\n\n    .dataframe thead th {\n        text-align: right;\n    }\n</style>\n<table border=\"1\" class=\"dataframe\">\n  <thead>\n    <tr style=\"text-align: right;\">\n      <th></th>\n      <th>A</th>\n      <th>B</th>\n      <th>C</th>\n      <th>D</th>\n    </tr>\n  </thead>\n  <tbody>\n    <tr>\n      <th>0</th>\n      <td>a1</td>\n      <td>b1</td>\n      <td>1</td>\n      <td>100</td>\n    </tr>\n    <tr>\n      <th>1</th>\n      <td>a2</td>\n      <td>b2</td>\n      <td>2</td>\n      <td>200</td>\n    </tr>\n    <tr>\n      <th>2</th>\n      <td>a3</td>\n      <td>b3</td>\n      <td>3</td>\n      <td>300</td>\n    </tr>\n    <tr>\n      <th>3</th>\n      <td>a4</td>\n      <td>b4</td>\n      <td>4</td>\n      <td>400</td>\n    </tr>\n  </tbody>\n</table>\n</div>"
     },
     "metadata": {},
     "execution_count": 2
    }
   ],
   "source": [
    "df"
   ]
  },
  {
   "cell_type": "code",
   "execution_count": 3,
   "metadata": {},
   "outputs": [
    {
     "output_type": "execute_result",
     "data": {
      "text/plain": [
       "    A variable value\n",
       "0  a1        B    b1\n",
       "1  a2        B    b2\n",
       "2  a3        B    b3\n",
       "3  a4        B    b4"
      ],
      "text/html": "<div>\n<style scoped>\n    .dataframe tbody tr th:only-of-type {\n        vertical-align: middle;\n    }\n\n    .dataframe tbody tr th {\n        vertical-align: top;\n    }\n\n    .dataframe thead th {\n        text-align: right;\n    }\n</style>\n<table border=\"1\" class=\"dataframe\">\n  <thead>\n    <tr style=\"text-align: right;\">\n      <th></th>\n      <th>A</th>\n      <th>variable</th>\n      <th>value</th>\n    </tr>\n  </thead>\n  <tbody>\n    <tr>\n      <th>0</th>\n      <td>a1</td>\n      <td>B</td>\n      <td>b1</td>\n    </tr>\n    <tr>\n      <th>1</th>\n      <td>a2</td>\n      <td>B</td>\n      <td>b2</td>\n    </tr>\n    <tr>\n      <th>2</th>\n      <td>a3</td>\n      <td>B</td>\n      <td>b3</td>\n    </tr>\n    <tr>\n      <th>3</th>\n      <td>a4</td>\n      <td>B</td>\n      <td>b4</td>\n    </tr>\n  </tbody>\n</table>\n</div>"
     },
     "metadata": {},
     "execution_count": 3
    }
   ],
   "source": [
    "df.melt(id_vars='A', value_vars='B')"
   ]
  },
  {
   "cell_type": "code",
   "execution_count": 4,
   "metadata": {},
   "outputs": [
    {
     "output_type": "execute_result",
     "data": {
      "text/plain": [
       "    A here there\n",
       "0  a1    B    b1\n",
       "1  a2    B    b2\n",
       "2  a3    B    b3\n",
       "3  a4    B    b4"
      ],
      "text/html": "<div>\n<style scoped>\n    .dataframe tbody tr th:only-of-type {\n        vertical-align: middle;\n    }\n\n    .dataframe tbody tr th {\n        vertical-align: top;\n    }\n\n    .dataframe thead th {\n        text-align: right;\n    }\n</style>\n<table border=\"1\" class=\"dataframe\">\n  <thead>\n    <tr style=\"text-align: right;\">\n      <th></th>\n      <th>A</th>\n      <th>here</th>\n      <th>there</th>\n    </tr>\n  </thead>\n  <tbody>\n    <tr>\n      <th>0</th>\n      <td>a1</td>\n      <td>B</td>\n      <td>b1</td>\n    </tr>\n    <tr>\n      <th>1</th>\n      <td>a2</td>\n      <td>B</td>\n      <td>b2</td>\n    </tr>\n    <tr>\n      <th>2</th>\n      <td>a3</td>\n      <td>B</td>\n      <td>b3</td>\n    </tr>\n    <tr>\n      <th>3</th>\n      <td>a4</td>\n      <td>B</td>\n      <td>b4</td>\n    </tr>\n  </tbody>\n</table>\n</div>"
     },
     "metadata": {},
     "execution_count": 4
    }
   ],
   "source": [
    "df.melt(id_vars='A', value_vars='B', var_name='here', value_name='there')"
   ]
  },
  {
   "cell_type": "code",
   "execution_count": 5,
   "metadata": {},
   "outputs": [
    {
     "output_type": "execute_result",
     "data": {
      "text/plain": [
       "    A   B variable value\n",
       "0  a1  b1        C     1\n",
       "1  a2  b2        C     2\n",
       "2  a3  b3        C     3\n",
       "3  a4  b4        C     4"
      ],
      "text/html": "<div>\n<style scoped>\n    .dataframe tbody tr th:only-of-type {\n        vertical-align: middle;\n    }\n\n    .dataframe tbody tr th {\n        vertical-align: top;\n    }\n\n    .dataframe thead th {\n        text-align: right;\n    }\n</style>\n<table border=\"1\" class=\"dataframe\">\n  <thead>\n    <tr style=\"text-align: right;\">\n      <th></th>\n      <th>A</th>\n      <th>B</th>\n      <th>variable</th>\n      <th>value</th>\n    </tr>\n  </thead>\n  <tbody>\n    <tr>\n      <th>0</th>\n      <td>a1</td>\n      <td>b1</td>\n      <td>C</td>\n      <td>1</td>\n    </tr>\n    <tr>\n      <th>1</th>\n      <td>a2</td>\n      <td>b2</td>\n      <td>C</td>\n      <td>2</td>\n    </tr>\n    <tr>\n      <th>2</th>\n      <td>a3</td>\n      <td>b3</td>\n      <td>C</td>\n      <td>3</td>\n    </tr>\n    <tr>\n      <th>3</th>\n      <td>a4</td>\n      <td>b4</td>\n      <td>C</td>\n      <td>4</td>\n    </tr>\n  </tbody>\n</table>\n</div>"
     },
     "metadata": {},
     "execution_count": 5
    }
   ],
   "source": [
    "df.melt(id_vars=['A','B'], value_vars='C')"
   ]
  },
  {
   "cell_type": "code",
   "execution_count": 7,
   "metadata": {},
   "outputs": [
    {
     "output_type": "execute_result",
     "data": {
      "text/plain": [
       "    A variable value\n",
       "0  a1        B    b1\n",
       "1  a2        B    b2\n",
       "2  a3        B    b3\n",
       "3  a4        B    b4\n",
       "4  a1        C     1\n",
       "5  a2        C     2\n",
       "6  a3        C     3\n",
       "7  a4        C     4"
      ],
      "text/html": "<div>\n<style scoped>\n    .dataframe tbody tr th:only-of-type {\n        vertical-align: middle;\n    }\n\n    .dataframe tbody tr th {\n        vertical-align: top;\n    }\n\n    .dataframe thead th {\n        text-align: right;\n    }\n</style>\n<table border=\"1\" class=\"dataframe\">\n  <thead>\n    <tr style=\"text-align: right;\">\n      <th></th>\n      <th>A</th>\n      <th>variable</th>\n      <th>value</th>\n    </tr>\n  </thead>\n  <tbody>\n    <tr>\n      <th>0</th>\n      <td>a1</td>\n      <td>B</td>\n      <td>b1</td>\n    </tr>\n    <tr>\n      <th>1</th>\n      <td>a2</td>\n      <td>B</td>\n      <td>b2</td>\n    </tr>\n    <tr>\n      <th>2</th>\n      <td>a3</td>\n      <td>B</td>\n      <td>b3</td>\n    </tr>\n    <tr>\n      <th>3</th>\n      <td>a4</td>\n      <td>B</td>\n      <td>b4</td>\n    </tr>\n    <tr>\n      <th>4</th>\n      <td>a1</td>\n      <td>C</td>\n      <td>1</td>\n    </tr>\n    <tr>\n      <th>5</th>\n      <td>a2</td>\n      <td>C</td>\n      <td>2</td>\n    </tr>\n    <tr>\n      <th>6</th>\n      <td>a3</td>\n      <td>C</td>\n      <td>3</td>\n    </tr>\n    <tr>\n      <th>7</th>\n      <td>a4</td>\n      <td>C</td>\n      <td>4</td>\n    </tr>\n  </tbody>\n</table>\n</div>"
     },
     "metadata": {},
     "execution_count": 7
    }
   ],
   "source": [
    "df.melt(id_vars='A', value_vars=['B','C'])"
   ]
  },
  {
   "cell_type": "code",
   "execution_count": 8,
   "metadata": {},
   "outputs": [
    {
     "output_type": "execute_result",
     "data": {
      "text/plain": [
       "    A   B variable value\n",
       "0  a1  b1        C     1\n",
       "1  a2  b2        C     2\n",
       "2  a3  b3        C     3\n",
       "3  a4  b4        C     4\n",
       "4  a1  b1        D   100\n",
       "5  a2  b2        D   200\n",
       "6  a3  b3        D   300\n",
       "7  a4  b4        D   400"
      ],
      "text/html": "<div>\n<style scoped>\n    .dataframe tbody tr th:only-of-type {\n        vertical-align: middle;\n    }\n\n    .dataframe tbody tr th {\n        vertical-align: top;\n    }\n\n    .dataframe thead th {\n        text-align: right;\n    }\n</style>\n<table border=\"1\" class=\"dataframe\">\n  <thead>\n    <tr style=\"text-align: right;\">\n      <th></th>\n      <th>A</th>\n      <th>B</th>\n      <th>variable</th>\n      <th>value</th>\n    </tr>\n  </thead>\n  <tbody>\n    <tr>\n      <th>0</th>\n      <td>a1</td>\n      <td>b1</td>\n      <td>C</td>\n      <td>1</td>\n    </tr>\n    <tr>\n      <th>1</th>\n      <td>a2</td>\n      <td>b2</td>\n      <td>C</td>\n      <td>2</td>\n    </tr>\n    <tr>\n      <th>2</th>\n      <td>a3</td>\n      <td>b3</td>\n      <td>C</td>\n      <td>3</td>\n    </tr>\n    <tr>\n      <th>3</th>\n      <td>a4</td>\n      <td>b4</td>\n      <td>C</td>\n      <td>4</td>\n    </tr>\n    <tr>\n      <th>4</th>\n      <td>a1</td>\n      <td>b1</td>\n      <td>D</td>\n      <td>100</td>\n    </tr>\n    <tr>\n      <th>5</th>\n      <td>a2</td>\n      <td>b2</td>\n      <td>D</td>\n      <td>200</td>\n    </tr>\n    <tr>\n      <th>6</th>\n      <td>a3</td>\n      <td>b3</td>\n      <td>D</td>\n      <td>300</td>\n    </tr>\n    <tr>\n      <th>7</th>\n      <td>a4</td>\n      <td>b4</td>\n      <td>D</td>\n      <td>400</td>\n    </tr>\n  </tbody>\n</table>\n</div>"
     },
     "metadata": {},
     "execution_count": 8
    }
   ],
   "source": [
    "df.melt(id_vars=['A','B'], value_vars=['C','D'])"
   ]
  },
  {
   "cell_type": "code",
   "execution_count": null,
   "metadata": {},
   "outputs": [],
   "source": []
  }
 ]
}